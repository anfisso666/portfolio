{
 "cells": [
  {
   "cell_type": "markdown",
   "id": "9442d728-f87d-4a5a-a84e-9ec564c18b30",
   "metadata": {},
   "source": [
    "<div style='margin: 55px 0; text-align: center; font-size: 21px'>Подготовим данные к последующей работе с ними. </div>"
   ]
  },
  {
   "cell_type": "code",
   "execution_count": 1,
   "id": "5854819b-3237-4ced-8bca-eddfabeb3b7e",
   "metadata": {
    "tags": []
   },
   "outputs": [],
   "source": [
    "import pandas as pd\n",
    "import numpy as np\n",
    "import re\n",
    "\n",
    "from dataprep.clean import clean_headers\n",
    "from datetime import datetime, date\n",
    "import warnings\n",
    "warnings.filterwarnings('ignore')"
   ]
  },
  {
   "cell_type": "code",
   "execution_count": 2,
   "id": "9966aced-b6e5-4b66-851f-9120fcf70bed",
   "metadata": {
    "tags": []
   },
   "outputs": [],
   "source": [
    "#  очистка телефона\n",
    "def format_tel(tel):\n",
    "    if type(tel) == str:\n",
    "        if tel.isalpha() == False:\n",
    "            tel = tel.removeprefix(\"+\")\n",
    "            tel = tel.removeprefix(\"7\")\n",
    "            tel = tel.removeprefix(\"8\")     # remove leading +1 or 1\n",
    "            tel = re.sub(\"[ =()-]\", '', tel) # remove space, (), -\n",
    "            tel = f\"{tel[:3]}-{tel[3:6]}-{tel[6:]}\"\n",
    "        else:\n",
    "            tel = np.nan\n",
    "    else:\n",
    "        tel = np.nan\n",
    "    return tel\n",
    "\n",
    "# Преобразуют дату\n",
    "def date(col):\n",
    "    if isinstance(col, str):\n",
    "        chars = ['.', '-']\n",
    "        str_val = col.translate(str.maketrans({ord(x): '' for x in chars}))\n",
    "        val = datetime.strptime(str_val, \"%d%m%Y\").date()\n",
    "    else:\n",
    "        val = col\n",
    "    return val\n"
   ]
  },
  {
   "cell_type": "markdown",
   "id": "1a26faf8-80ae-410f-becb-9960dcc0cc16",
   "metadata": {},
   "source": [
    "<div style='margin: 55px 0; text-align: center; font-size: 21px'>\n",
    "    Прочтём файл.<p style='text-align: center;font-size: 15px'>Продублируем файл,  переименуем колонки.</p>\n",
    "</div>"
   ]
  },
  {
   "cell_type": "code",
   "execution_count": 3,
   "id": "7d279850-8a45-4259-aade-6b3f529edd48",
   "metadata": {
    "tags": []
   },
   "outputs": [],
   "source": [
    "df_origin = pd.read_excel('f/data.xlsx', usecols=lambda x: 'Unnamed' not in x)"
   ]
  },
  {
   "cell_type": "code",
   "execution_count": 4,
   "id": "331fcb71-fbf5-4e04-b8fc-a5f7768c5ac7",
   "metadata": {
    "tags": []
   },
   "outputs": [],
   "source": [
    "df = df_origin.copy()"
   ]
  },
  {
   "cell_type": "code",
   "execution_count": 5,
   "id": "b745abbb-8690-41a2-8efd-37f8529fab90",
   "metadata": {},
   "outputs": [
    {
     "data": {
      "text/html": [
       "<div><div id=db752344-bcf5-400f-bc56-9df1529cd6d4 style=\"display:none; background-color:#9D6CFF; color:white; width:200px; height:30px; padding-left:5px; border-radius:4px; flex-direction:row; justify-content:space-around; align-items:center;\" onmouseover=\"this.style.backgroundColor='#BA9BF8'\" onmouseout=\"this.style.backgroundColor='#9D6CFF'\" onclick=\"window.commands?.execute('create-mitosheet-from-dataframe-output');\">See Full Dataframe in Mito</div> <script> if (window.commands?.hasCommand('create-mitosheet-from-dataframe-output')) document.getElementById('db752344-bcf5-400f-bc56-9df1529cd6d4').style.display = 'flex' </script> <table border=\"1\" class=\"dataframe\">\n",
       "  <thead>\n",
       "    <tr style=\"text-align: right;\">\n",
       "      <th></th>\n",
       "      <th>Name participant</th>\n",
       "      <th>AGE</th>\n",
       "      <th>weight__</th>\n",
       "      <th>Date</th>\n",
       "      <th>email Adress</th>\n",
       "      <th>contact_</th>\n",
       "      <th>money</th>\n",
       "      <th>Identifier</th>\n",
       "    </tr>\n",
       "  </thead>\n",
       "  <tbody>\n",
       "    <tr>\n",
       "      <th>0</th>\n",
       "      <td>Katy</td>\n",
       "      <td>12.0</td>\n",
       "      <td>32.5</td>\n",
       "      <td>31.12.2013</td>\n",
       "      <td>abby@gmail.com</td>\n",
       "      <td>89664352265</td>\n",
       "      <td>900</td>\n",
       "      <td>578209</td>\n",
       "    </tr>\n",
       "    <tr>\n",
       "      <th>1</th>\n",
       "      <td>Abby</td>\n",
       "      <td>33.0</td>\n",
       "      <td>47.1</td>\n",
       "      <td>02.-11-2013</td>\n",
       "      <td>scott@gmail.com</td>\n",
       "      <td>NaN</td>\n",
       "      <td>900</td>\n",
       "      <td>669759</td>\n",
       "    </tr>\n",
       "    <tr>\n",
       "      <th>2</th>\n",
       "      <td>Scott</td>\n",
       "      <td>33.0</td>\n",
       "      <td>47.1</td>\n",
       "      <td>5.11.2013</td>\n",
       "      <td>NaN</td>\n",
       "      <td>+7 888 666 45 65</td>\n",
       "      <td>1.000.000руб</td>\n",
       "      <td>725068</td>\n",
       "    </tr>\n",
       "    <tr>\n",
       "      <th>3</th>\n",
       "      <td>Scott</td>\n",
       "      <td>56.0</td>\n",
       "      <td>55.2</td>\n",
       "      <td>2013-11-09 00:00:00</td>\n",
       "      <td>scott@gmail.com</td>\n",
       "      <td>79166872355</td>\n",
       "      <td>1000</td>\n",
       "      <td>603343</td>\n",
       "    </tr>\n",
       "    <tr>\n",
       "      <th>4</th>\n",
       "      <td>Scott2</td>\n",
       "      <td>NaN</td>\n",
       "      <td>NaN</td>\n",
       "      <td>23.11.2013</td>\n",
       "      <td>test@abc.com</td>\n",
       "      <td>8 987 546-87-66</td>\n",
       "      <td>1000000</td>\n",
       "      <td>799674</td>\n",
       "    </tr>\n",
       "  </tbody>\n",
       "</table></div>"
      ],
      "text/plain": [
       "  Name participant   AGE  weight__                 Date     email Adress  \\\n",
       "0             Katy  12.0      32.5           31.12.2013   abby@gmail.com   \n",
       "1             Abby  33.0      47.1          02.-11-2013  scott@gmail.com   \n",
       "2            Scott  33.0      47.1            5.11.2013              NaN   \n",
       "3            Scott  56.0      55.2  2013-11-09 00:00:00  scott@gmail.com   \n",
       "4           Scott2   NaN       NaN           23.11.2013     test@abc.com   \n",
       "\n",
       "           contact_         money  Identifier  \n",
       "0       89664352265           900      578209  \n",
       "1               NaN           900      669759  \n",
       "2  +7 888 666 45 65  1.000.000руб      725068  \n",
       "3       79166872355          1000      603343  \n",
       "4   8 987 546-87-66       1000000      799674  "
      ]
     },
     "execution_count": 5,
     "metadata": {},
     "output_type": "execute_result"
    }
   ],
   "source": [
    "df.head(5)"
   ]
  },
  {
   "cell_type": "code",
   "execution_count": 6,
   "id": "4d6a1549-fbb3-4c36-8705-803acd5bbcbe",
   "metadata": {},
   "outputs": [
    {
     "name": "stdout",
     "output_type": "stream",
     "text": [
      "Column Headers Cleaning Report:\n",
      "\t7 values cleaned (87.5%)\n"
     ]
    }
   ],
   "source": [
    "df = clean_headers(df, case=\"title\")"
   ]
  },
  {
   "cell_type": "code",
   "execution_count": 7,
   "id": "4b646bf2-7701-4556-a7e4-14e4d3548e37",
   "metadata": {},
   "outputs": [
    {
     "name": "stdout",
     "output_type": "stream",
     "text": [
      "<class 'pandas.core.frame.DataFrame'>\n",
      "RangeIndex: 66 entries, 0 to 65\n",
      "Data columns (total 8 columns):\n",
      " #   Column            Non-Null Count  Dtype  \n",
      "---  ------            --------------  -----  \n",
      " 0   Name Participant  66 non-null     object \n",
      " 1   Age               50 non-null     float64\n",
      " 2   Weight            57 non-null     float64\n",
      " 3   Date              65 non-null     object \n",
      " 4   Email Adress      59 non-null     object \n",
      " 5   Contact           65 non-null     object \n",
      " 6   Money             63 non-null     object \n",
      " 7   Identifier        66 non-null     int64  \n",
      "dtypes: float64(2), int64(1), object(5)\n",
      "memory usage: 4.2+ KB\n"
     ]
    }
   ],
   "source": [
    "df.info()"
   ]
  },
  {
   "cell_type": "code",
   "execution_count": 8,
   "id": "8a389ce7-3649-4c87-97c1-61b2bd7213ad",
   "metadata": {},
   "outputs": [
    {
     "data": {
      "text/plain": [
       "Name Participant     object\n",
       "Age                 float64\n",
       "Weight              float64\n",
       "Date                 object\n",
       "Email Adress         object\n",
       "Contact              object\n",
       "Money                object\n",
       "Identifier            int64\n",
       "dtype: object"
      ]
     },
     "execution_count": 8,
     "metadata": {},
     "output_type": "execute_result"
    }
   ],
   "source": [
    "df.dtypes"
   ]
  },
  {
   "cell_type": "code",
   "execution_count": 9,
   "id": "49449cfb-1b9c-4f09-b0d8-fb7ca12690a8",
   "metadata": {},
   "outputs": [
    {
     "data": {
      "text/html": [
       "<div><div id=eec00b13-979a-4b8f-8350-07aed9aebeaa style=\"display:none; background-color:#9D6CFF; color:white; width:200px; height:30px; padding-left:5px; border-radius:4px; flex-direction:row; justify-content:space-around; align-items:center;\" onmouseover=\"this.style.backgroundColor='#BA9BF8'\" onmouseout=\"this.style.backgroundColor='#9D6CFF'\" onclick=\"window.commands?.execute('create-mitosheet-from-dataframe-output');\">See Full Dataframe in Mito</div> <script> if (window.commands?.hasCommand('create-mitosheet-from-dataframe-output')) document.getElementById('eec00b13-979a-4b8f-8350-07aed9aebeaa').style.display = 'flex' </script> <table border=\"1\" class=\"dataframe\">\n",
       "  <thead>\n",
       "    <tr style=\"text-align: right;\">\n",
       "      <th></th>\n",
       "      <th>Age</th>\n",
       "      <th>Weight</th>\n",
       "      <th>Identifier</th>\n",
       "    </tr>\n",
       "  </thead>\n",
       "  <tbody>\n",
       "    <tr>\n",
       "      <th>count</th>\n",
       "      <td>50.00000</td>\n",
       "      <td>57.000000</td>\n",
       "      <td>66.000000</td>\n",
       "    </tr>\n",
       "    <tr>\n",
       "      <th>mean</th>\n",
       "      <td>41.60000</td>\n",
       "      <td>49.740351</td>\n",
       "      <td>749168.348485</td>\n",
       "    </tr>\n",
       "    <tr>\n",
       "      <th>std</th>\n",
       "      <td>16.65006</td>\n",
       "      <td>7.875184</td>\n",
       "      <td>118268.759778</td>\n",
       "    </tr>\n",
       "    <tr>\n",
       "      <th>min</th>\n",
       "      <td>12.00000</td>\n",
       "      <td>32.500000</td>\n",
       "      <td>578209.000000</td>\n",
       "    </tr>\n",
       "    <tr>\n",
       "      <th>25%</th>\n",
       "      <td>33.00000</td>\n",
       "      <td>47.100000</td>\n",
       "      <td>635118.250000</td>\n",
       "    </tr>\n",
       "    <tr>\n",
       "      <th>50%</th>\n",
       "      <td>56.00000</td>\n",
       "      <td>55.200000</td>\n",
       "      <td>733481.500000</td>\n",
       "    </tr>\n",
       "    <tr>\n",
       "      <th>75%</th>\n",
       "      <td>56.00000</td>\n",
       "      <td>55.200000</td>\n",
       "      <td>832831.750000</td>\n",
       "    </tr>\n",
       "    <tr>\n",
       "      <th>max</th>\n",
       "      <td>56.00000</td>\n",
       "      <td>55.200000</td>\n",
       "      <td>964825.000000</td>\n",
       "    </tr>\n",
       "  </tbody>\n",
       "</table></div>"
      ],
      "text/plain": [
       "            Age     Weight     Identifier\n",
       "count  50.00000  57.000000      66.000000\n",
       "mean   41.60000  49.740351  749168.348485\n",
       "std    16.65006   7.875184  118268.759778\n",
       "min    12.00000  32.500000  578209.000000\n",
       "25%    33.00000  47.100000  635118.250000\n",
       "50%    56.00000  55.200000  733481.500000\n",
       "75%    56.00000  55.200000  832831.750000\n",
       "max    56.00000  55.200000  964825.000000"
      ]
     },
     "execution_count": 9,
     "metadata": {},
     "output_type": "execute_result"
    }
   ],
   "source": [
    "df.describe()"
   ]
  },
  {
   "cell_type": "markdown",
   "id": "b4196651-e46c-4ffc-b84c-27d4ccb2d3be",
   "metadata": {},
   "source": [
    "<div style='margin: 33px 0; text-align: center; font-size: 16px'>\n",
    "    Получим типы данных контента в каждой колонки.<br>Далее уберём ненужные колонки из файла, установим индексы строк.<p style='text-align: center;font-size: 15px'></p>\n",
    "</div>"
   ]
  },
  {
   "cell_type": "code",
   "execution_count": 10,
   "id": "da49c775-993e-47ab-a665-7c4ec47e7615",
   "metadata": {},
   "outputs": [
    {
     "data": {
      "text/plain": [
       "{'Name Participant': [str],\n",
       " 'Age': [float],\n",
       " 'Weight': [float],\n",
       " 'Date': [str, float, datetime.datetime],\n",
       " 'Email Adress': [str, float],\n",
       " 'Contact': [str, float, int],\n",
       " 'Money': [str, float, int],\n",
       " 'Identifier': [int]}"
      ]
     },
     "execution_count": 10,
     "metadata": {},
     "output_type": "execute_result"
    }
   ],
   "source": [
    "dict_types = {}\n",
    "\n",
    "for name, values in df.iteritems ():\n",
    "    type_ = values.apply(type)\n",
    "    set_ = set(list(type_))\n",
    "    dict_types[f'{name}'] = list(set_)\n",
    "\n",
    "dict_types"
   ]
  },
  {
   "cell_type": "code",
   "execution_count": 11,
   "id": "4cb85323-9bfa-4c85-be52-c35c303e78a4",
   "metadata": {},
   "outputs": [],
   "source": [
    "to_drop = ['Age', 'Weight']\n",
    "\n",
    "df.drop(to_drop, inplace=True, axis=1)"
   ]
  },
  {
   "cell_type": "code",
   "execution_count": 12,
   "id": "66803393-a341-4544-a4f1-458fce13a55b",
   "metadata": {},
   "outputs": [
    {
     "data": {
      "text/plain": [
       "True"
      ]
     },
     "execution_count": 12,
     "metadata": {},
     "output_type": "execute_result"
    }
   ],
   "source": [
    "df['Identifier'].is_unique"
   ]
  },
  {
   "cell_type": "code",
   "execution_count": 13,
   "id": "f5e3ba54-856f-4e1b-af0f-60f1b0890e41",
   "metadata": {},
   "outputs": [],
   "source": [
    "df.set_index('Identifier', inplace=True)"
   ]
  },
  {
   "cell_type": "markdown",
   "id": "228acdf1-ae6a-4b54-8745-485ea6848d01",
   "metadata": {},
   "source": [
    "<div style='margin: 55px 0; text-align: center; font-size: 16px'>\n",
    "    Почистим значения номеров телефона, также значения оплаты. Откорректируем дату.<p style='text-align: center;font-size: 15px'></p>\n",
    "</div>"
   ]
  },
  {
   "cell_type": "code",
   "execution_count": 14,
   "id": "a108bf3f-9a14-4c4a-beba-084cf1816908",
   "metadata": {},
   "outputs": [],
   "source": [
    "df['Contact'] = df['Contact'].apply(format_tel)"
   ]
  },
  {
   "cell_type": "code",
   "execution_count": 15,
   "id": "becc02c3-5a36-436c-bc1c-dead8ec0f047",
   "metadata": {},
   "outputs": [],
   "source": [
    "df[\"Money\"] = df[\"Money\"].replace(r\"[^\\d]\", \"\", regex=True).apply(pd.to_numeric)"
   ]
  },
  {
   "cell_type": "code",
   "execution_count": 16,
   "id": "5d8eaeb4-99f6-4f9c-9732-d233fe709dfd",
   "metadata": {},
   "outputs": [],
   "source": [
    "df['Date'] = df['Date'].apply(date)"
   ]
  },
  {
   "cell_type": "code",
   "execution_count": 17,
   "id": "44f0f076-9c78-44a8-836b-18d6e07eeb85",
   "metadata": {},
   "outputs": [
    {
     "data": {
      "text/html": [
       "<div><div id=ee7e0062-dbea-4d27-9d54-548d395e07d6 style=\"display:none; background-color:#9D6CFF; color:white; width:200px; height:30px; padding-left:5px; border-radius:4px; flex-direction:row; justify-content:space-around; align-items:center;\" onmouseover=\"this.style.backgroundColor='#BA9BF8'\" onmouseout=\"this.style.backgroundColor='#9D6CFF'\" onclick=\"window.commands?.execute('create-mitosheet-from-dataframe-output');\">See Full Dataframe in Mito</div> <script> if (window.commands?.hasCommand('create-mitosheet-from-dataframe-output')) document.getElementById('ee7e0062-dbea-4d27-9d54-548d395e07d6').style.display = 'flex' </script> <table border=\"1\" class=\"dataframe\">\n",
       "  <thead>\n",
       "    <tr style=\"text-align: right;\">\n",
       "      <th></th>\n",
       "      <th>Name Participant</th>\n",
       "      <th>Date</th>\n",
       "      <th>Email Adress</th>\n",
       "      <th>Contact</th>\n",
       "      <th>Money</th>\n",
       "    </tr>\n",
       "    <tr>\n",
       "      <th>Identifier</th>\n",
       "      <th></th>\n",
       "      <th></th>\n",
       "      <th></th>\n",
       "      <th></th>\n",
       "      <th></th>\n",
       "    </tr>\n",
       "  </thead>\n",
       "  <tbody>\n",
       "    <tr>\n",
       "      <th>578209</th>\n",
       "      <td>Katy</td>\n",
       "      <td>2013-12-31</td>\n",
       "      <td>abby@gmail.com</td>\n",
       "      <td>966-435-2265</td>\n",
       "      <td>900.0</td>\n",
       "    </tr>\n",
       "    <tr>\n",
       "      <th>669759</th>\n",
       "      <td>Abby</td>\n",
       "      <td>2013-11-02</td>\n",
       "      <td>scott@gmail.com</td>\n",
       "      <td>NaN</td>\n",
       "      <td>900.0</td>\n",
       "    </tr>\n",
       "    <tr>\n",
       "      <th>725068</th>\n",
       "      <td>Scott</td>\n",
       "      <td>2013-11-05</td>\n",
       "      <td>NaN</td>\n",
       "      <td>888-666-4565</td>\n",
       "      <td>1000000.0</td>\n",
       "    </tr>\n",
       "  </tbody>\n",
       "</table></div>"
      ],
      "text/plain": [
       "           Name Participant       Date     Email Adress       Contact  \\\n",
       "Identifier                                                              \n",
       "578209                 Katy 2013-12-31   abby@gmail.com  966-435-2265   \n",
       "669759                 Abby 2013-11-02  scott@gmail.com           NaN   \n",
       "725068                Scott 2013-11-05              NaN  888-666-4565   \n",
       "\n",
       "                Money  \n",
       "Identifier             \n",
       "578209          900.0  \n",
       "669759          900.0  \n",
       "725068      1000000.0  "
      ]
     },
     "execution_count": 17,
     "metadata": {},
     "output_type": "execute_result"
    }
   ],
   "source": [
    "df.head(3)"
   ]
  },
  {
   "cell_type": "markdown",
   "id": "f8c0e6b0-3799-4d72-9939-98116f5ce201",
   "metadata": {},
   "source": [
    "<div style='margin: 55px 0; text-align: center; font-size: 16px'>\n",
    "     Переходим к отсутствующим значениям.<p style='text-align: center;font-size: 14px'>Получим отсутствующие значения из строк, заменим NaN, либо избавимся от строк с их содержанием.</p>\n",
    "</div>"
   ]
  },
  {
   "cell_type": "code",
   "execution_count": 18,
   "id": "3ba69016-9992-4015-afe0-c954367c537d",
   "metadata": {},
   "outputs": [],
   "source": [
    "df=df.replace({'NULL':np.NaN})"
   ]
  },
  {
   "cell_type": "code",
   "execution_count": 19,
   "id": "f7c57e4d-b558-4210-ab34-bf6db06aa90a",
   "metadata": {},
   "outputs": [
    {
     "data": {
      "text/plain": [
       "Name Participant    0\n",
       "Date                1\n",
       "Email Adress        7\n",
       "Contact             5\n",
       "Money               3\n",
       "dtype: int64"
      ]
     },
     "execution_count": 19,
     "metadata": {},
     "output_type": "execute_result"
    }
   ],
   "source": [
    "df.isna().sum()"
   ]
  },
  {
   "cell_type": "code",
   "execution_count": 20,
   "id": "949c910f-a744-4ace-adb9-ae7fb701dfbf",
   "metadata": {},
   "outputs": [],
   "source": [
    "df=df.dropna(subset=['Date','Contact'])"
   ]
  },
  {
   "cell_type": "code",
   "execution_count": 21,
   "id": "58d5dbd5-b013-4794-b5d3-9bfdccafb01e",
   "metadata": {},
   "outputs": [],
   "source": [
    "df['Money'].fillna((df['Money'].mean()), inplace=True)"
   ]
  },
  {
   "cell_type": "code",
   "execution_count": 22,
   "id": "db33fb9f-5134-4314-a338-cbd11d67b773",
   "metadata": {},
   "outputs": [],
   "source": [
    "df['Email Adress'] = df['Email Adress'].replace(np.nan, '/NA', regex=True)"
   ]
  },
  {
   "cell_type": "code",
   "execution_count": 23,
   "id": "1b242b65-dfc9-411c-a6e8-377b6336ea5d",
   "metadata": {},
   "outputs": [
    {
     "data": {
      "text/plain": [
       "False"
      ]
     },
     "execution_count": 23,
     "metadata": {},
     "output_type": "execute_result"
    }
   ],
   "source": [
    "df.isnull().values.any()"
   ]
  },
  {
   "cell_type": "code",
   "execution_count": 30,
   "id": "a26c785f-9105-4709-851f-22de741b87b4",
   "metadata": {},
   "outputs": [
    {
     "data": {
      "text/html": [
       "<div><div id=fb6c63a5-00a0-459f-b1b8-facc8ee563c5 style=\"display:none; background-color:#9D6CFF; color:white; width:200px; height:30px; padding-left:5px; border-radius:4px; flex-direction:row; justify-content:space-around; align-items:center;\" onmouseover=\"this.style.backgroundColor='#BA9BF8'\" onmouseout=\"this.style.backgroundColor='#9D6CFF'\" onclick=\"window.commands?.execute('create-mitosheet-from-dataframe-output');\">See Full Dataframe in Mito</div> <script> if (window.commands?.hasCommand('create-mitosheet-from-dataframe-output')) document.getElementById('fb6c63a5-00a0-459f-b1b8-facc8ee563c5').style.display = 'flex' </script> <table border=\"1\" class=\"dataframe\">\n",
       "  <thead>\n",
       "    <tr style=\"text-align: right;\">\n",
       "      <th></th>\n",
       "      <th>Name Participant</th>\n",
       "      <th>Date</th>\n",
       "      <th>Email Adress</th>\n",
       "      <th>Contact</th>\n",
       "      <th>Money</th>\n",
       "    </tr>\n",
       "    <tr>\n",
       "      <th>Identifier</th>\n",
       "      <th></th>\n",
       "      <th></th>\n",
       "      <th></th>\n",
       "      <th></th>\n",
       "      <th></th>\n",
       "    </tr>\n",
       "  </thead>\n",
       "  <tbody>\n",
       "    <tr>\n",
       "      <th>578209</th>\n",
       "      <td>Katy</td>\n",
       "      <td>2013-12-31</td>\n",
       "      <td>abby@gmail.com</td>\n",
       "      <td>966-435-2265</td>\n",
       "      <td>900.0</td>\n",
       "    </tr>\n",
       "    <tr>\n",
       "      <th>725068</th>\n",
       "      <td>Scott</td>\n",
       "      <td>2013-11-05</td>\n",
       "      <td>/NA</td>\n",
       "      <td>888-666-4565</td>\n",
       "      <td>1000000.0</td>\n",
       "    </tr>\n",
       "    <tr>\n",
       "      <th>799674</th>\n",
       "      <td>Scott2</td>\n",
       "      <td>2013-11-23</td>\n",
       "      <td>test@abc.com</td>\n",
       "      <td>987-546-8766</td>\n",
       "      <td>1000000.0</td>\n",
       "    </tr>\n",
       "    <tr>\n",
       "      <th>661334</th>\n",
       "      <td>Tony</td>\n",
       "      <td>2013-11-26</td>\n",
       "      <td>/NA</td>\n",
       "      <td>912-112-5544</td>\n",
       "      <td>-54400.0</td>\n",
       "    </tr>\n",
       "    <tr>\n",
       "      <th>958694</th>\n",
       "      <td>Scott</td>\n",
       "      <td>2013-11-09</td>\n",
       "      <td>scott@gmail.com</td>\n",
       "      <td>966-334-6654</td>\n",
       "      <td>900.0</td>\n",
       "    </tr>\n",
       "  </tbody>\n",
       "</table></div>"
      ],
      "text/plain": [
       "           Name Participant       Date     Email Adress       Contact  \\\n",
       "Identifier                                                              \n",
       "578209                 Katy 2013-12-31   abby@gmail.com  966-435-2265   \n",
       "725068                Scott 2013-11-05              /NA  888-666-4565   \n",
       "799674               Scott2 2013-11-23     test@abc.com  987-546-8766   \n",
       "661334                 Tony 2013-11-26              /NA  912-112-5544   \n",
       "958694                Scott 2013-11-09  scott@gmail.com  966-334-6654   \n",
       "\n",
       "                Money  \n",
       "Identifier             \n",
       "578209          900.0  \n",
       "725068      1000000.0  \n",
       "799674      1000000.0  \n",
       "661334       -54400.0  \n",
       "958694          900.0  "
      ]
     },
     "execution_count": 30,
     "metadata": {},
     "output_type": "execute_result"
    }
   ],
   "source": [
    "df.head()"
   ]
  },
  {
   "cell_type": "markdown",
   "id": "146a69e3-ddbb-467d-a45f-e64935c60f74",
   "metadata": {},
   "source": [
    "<div style='margin: 55px 0; text-align: center; font-size: 16px'>\n",
    "     Данные готовы к основному анализу.<p style='text-align: center;font-size: 14px'>Экспортируем их.</p>\n",
    "</div>"
   ]
  },
  {
   "cell_type": "code",
   "execution_count": 24,
   "id": "0c69d5f6-a296-4919-b1f5-3bbbd2b64cfb",
   "metadata": {},
   "outputs": [],
   "source": [
    "df.to_excel('f/finished.xlsx')"
   ]
  }
 ],
 "metadata": {
  "kernelspec": {
   "display_name": "Python 3 (ipykernel)",
   "language": "python",
   "name": "python3"
  },
  "language_info": {
   "codemirror_mode": {
    "name": "ipython",
    "version": 3
   },
   "file_extension": ".py",
   "mimetype": "text/x-python",
   "name": "python",
   "nbconvert_exporter": "python",
   "pygments_lexer": "ipython3",
   "version": "3.9.13"
  }
 },
 "nbformat": 4,
 "nbformat_minor": 5
}
